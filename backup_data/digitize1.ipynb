{
 "cells": [
  {
   "cell_type": "code",
   "execution_count": 65,
   "metadata": {},
   "outputs": [
    {
     "name": "stderr",
     "output_type": "stream",
     "text": [
      "No model was supplied, defaulted to distilbert-base-uncased-finetuned-sst-2-english and revision af0f99b (https://huggingface.co/distilbert-base-uncased-finetuned-sst-2-english).\n",
      "Using a pipeline without specifying a model name and revision in production is not recommended.\n",
      "Some layers from the model checkpoint at distilbert-base-uncased-finetuned-sst-2-english were not used when initializing TFDistilBertForSequenceClassification: ['dropout_19']\n",
      "- This IS expected if you are initializing TFDistilBertForSequenceClassification from the checkpoint of a model trained on another task or with another architecture (e.g. initializing a BertForSequenceClassification model from a BertForPreTraining model).\n",
      "- This IS NOT expected if you are initializing TFDistilBertForSequenceClassification from the checkpoint of a model that you expect to be exactly identical (initializing a BertForSequenceClassification model from a BertForSequenceClassification model).\n",
      "Some layers of TFDistilBertForSequenceClassification were not initialized from the model checkpoint at distilbert-base-uncased-finetuned-sst-2-english and are newly initialized: ['dropout_979']\n",
      "You should probably TRAIN this model on a down-stream task to be able to use it for predictions and inference.\n"
     ]
    },
    {
     "name": "stdout",
     "output_type": "stream",
     "text": [
      "['welcome to the century club', 'No way Arda Guler signing getting more attention than Jude Bellingham', 'New ozil', 'Again crstiano', 'he just destroyed his career', 'the icon', 'mashallah real', 'he is somali boy', 'This guy is 2005 omg he is living the dream may Allah grant him success', 'The boy just started hes career and already has barcelona haters']\n",
      "[0.9998000264167786, 0.015246808528900146, 0.9892592430114746, 0.050206780433654785, 0.00025910139083862305, 0.9980712532997131, 0.999065101146698, 0.9030753970146179, 0.995762050151825, 0.009427368640899658]\n",
      "0.59601731300354\n"
     ]
    }
   ],
   "source": [
    "import pandas as pd\n",
    "import ast\n",
    "from transformers import pipeline\n",
    "\n",
    "#returns positivity from 0 to 1, 0 is negative and 1 is positive\n",
    "def classify(txt):\n",
    "    sent_obj = classifier(txt)[0]\n",
    "    if sent_obj[\"label\"] == \"NEGATIVE\":\n",
    "        return(1-sent_obj[\"score\"])\n",
    "    else:\n",
    "        return(sent_obj[\"score\"])\n",
    "classifier = pipeline(\"sentiment-analysis\")\n",
    "\n",
    "df = pd.read_csv(\"final_data_digitized.csv\")\n",
    "\n",
    "sent_vals = []\n",
    "comment_ls = ast.literal_eval(df.iloc[178,6])\n",
    "print(comment_ls)\n",
    "for comment in comment_ls:\n",
    "    sent_vals.append(classify(comment))\n",
    "print(sent_vals)\n",
    "sent_avg = sum(sent_vals)/len(sent_vals)\n",
    "print(sent_avg)\n",
    "df.iloc[178,6] = sent_avg\n",
    "\n",
    "df.to_csv(\"final_data_digitized1.csv\", index=False)\n"
   ]
  },
  {
   "cell_type": "code",
   "execution_count": 27,
   "metadata": {},
   "outputs": [
    {
     "name": "stderr",
     "output_type": "stream",
     "text": [
      "No model was supplied, defaulted to distilbert-base-uncased-finetuned-sst-2-english and revision af0f99b (https://huggingface.co/distilbert-base-uncased-finetuned-sst-2-english).\n",
      "Using a pipeline without specifying a model name and revision in production is not recommended.\n",
      "Some layers from the model checkpoint at distilbert-base-uncased-finetuned-sst-2-english were not used when initializing TFDistilBertForSequenceClassification: ['dropout_19']\n",
      "- This IS expected if you are initializing TFDistilBertForSequenceClassification from the checkpoint of a model trained on another task or with another architecture (e.g. initializing a BertForSequenceClassification model from a BertForPreTraining model).\n",
      "- This IS NOT expected if you are initializing TFDistilBertForSequenceClassification from the checkpoint of a model that you expect to be exactly identical (initializing a BertForSequenceClassification model from a BertForSequenceClassification model).\n",
      "Some layers of TFDistilBertForSequenceClassification were not initialized from the model checkpoint at distilbert-base-uncased-finetuned-sst-2-english and are newly initialized: ['dropout_219']\n",
      "You should probably TRAIN this model on a down-stream task to be able to use it for predictions and inference.\n"
     ]
    },
    {
     "name": "stdout",
     "output_type": "stream",
     "text": [
      "[{'label': 'NEGATIVE', 'score': 0.9990849494934082}]\n"
     ]
    }
   ],
   "source": [
    "from transformers import pipeline\n",
    "\n",
    "classifier = pipeline(\"sentiment-analysis\")\n",
    "print(classifier(\"slay\"))"
   ]
  }
 ],
 "metadata": {
  "kernelspec": {
   "display_name": "Python 3",
   "language": "python",
   "name": "python3"
  },
  "language_info": {
   "codemirror_mode": {
    "name": "ipython",
    "version": 3
   },
   "file_extension": ".py",
   "mimetype": "text/x-python",
   "name": "python",
   "nbconvert_exporter": "python",
   "pygments_lexer": "ipython3",
   "version": "3.10.5"
  },
  "orig_nbformat": 4
 },
 "nbformat": 4,
 "nbformat_minor": 2
}
